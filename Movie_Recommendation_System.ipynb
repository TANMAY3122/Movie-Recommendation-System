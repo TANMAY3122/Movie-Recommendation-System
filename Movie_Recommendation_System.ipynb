{
 "cells": [
  {
   "cell_type": "markdown",
   "id": "3740ee9b",
   "metadata": {},
   "source": [
    "# Movie Recommendation System"
   ]
  },
  {
   "cell_type": "code",
   "execution_count": null,
   "id": "72f46d02",
   "metadata": {},
   "outputs": [],
   "source": [
    "\n",
    "# Import necessary libraries\n",
    "import pandas as pd\n",
    "import numpy as np\n",
    "from sklearn.metrics.pairwise import cosine_similarity\n",
    "from sklearn.feature_extraction.text import CountVectorizer\n",
    "from sklearn.model_selection import train_test_split\n",
    "from sklearn.metrics import mean_squared_error\n"
   ]
  },
  {
   "cell_type": "markdown",
   "id": "2a413ed1",
   "metadata": {},
   "source": [
    "## Load Datasets"
   ]
  },
  {
   "cell_type": "code",
   "execution_count": null,
   "id": "de208d64",
   "metadata": {},
   "outputs": [],
   "source": [
    "\n",
    "# Load the datasets\n",
    "movies = pd.read_csv('movies.csv')\n",
    "ratings = pd.read_csv('ratings.csv')\n"
   ]
  },
  {
   "cell_type": "markdown",
   "id": "6afc21df",
   "metadata": {},
   "source": [
    "## Collaborative Filtering"
   ]
  },
  {
   "cell_type": "code",
   "execution_count": null,
   "id": "851df8e9",
   "metadata": {},
   "outputs": [],
   "source": [
    "\n",
    "# 1. Create a user-item matrix\n",
    "user_item_matrix = ratings.pivot(index='userId', columns='movieId', values='rating')\n",
    "\n",
    "# 2. Compute cosine similarity between users\n",
    "user_similarity = cosine_similarity(user_item_matrix.fillna(0))\n",
    "user_similarity_df = pd.DataFrame(user_similarity, index=user_item_matrix.index, columns=user_item_matrix.index)\n"
   ]
  },
  {
   "cell_type": "code",
   "execution_count": null,
   "id": "3685dd09",
   "metadata": {},
   "outputs": [],
   "source": [
    "\n",
    "# 3. Define function for collaborative filtering recommendations\n",
    "def get_user_recommendations(user_id, user_item_matrix, user_similarity, num_recommendations=5):\n",
    "    user_idx = user_id - 1\n",
    "    sim_scores = user_similarity[user_idx]\n",
    "    weighted_ratings = (sim_scores[:, None] * user_item_matrix.fillna(0)).sum(axis=0)\n",
    "    rated_by_similar_users = user_item_matrix.notna().sum(axis=0)\n",
    "    recommendations = (weighted_ratings / rated_by_similar_users).sort_values(ascending=False).dropna()\n",
    "    return recommendations.head(num_recommendations)\n"
   ]
  },
  {
   "cell_type": "markdown",
   "id": "fd6653ee",
   "metadata": {},
   "source": [
    "## Content-Based Filtering"
   ]
  },
  {
   "cell_type": "code",
   "execution_count": null,
   "id": "4671c356",
   "metadata": {},
   "outputs": [],
   "source": [
    "\n",
    "# 1. Preprocess the genres into a bag of words format\n",
    "movies['genres'] = movies['genres'].str.split('|')\n",
    "movies['genre_str'] = movies['genres'].apply(lambda x: ' '.join(x))\n",
    "\n",
    "# 2. Convert genres to a matrix using CountVectorizer\n",
    "vectorizer = CountVectorizer()\n",
    "genre_matrix = vectorizer.fit_transform(movies['genre_str'])\n",
    "\n",
    "# 3. Compute cosine similarity for movies based on genres\n",
    "movie_similarity = cosine_similarity(genre_matrix)\n"
   ]
  },
  {
   "cell_type": "code",
   "execution_count": null,
   "id": "28584733",
   "metadata": {},
   "outputs": [],
   "source": [
    "\n",
    "# 4. Define function for content-based recommendations\n",
    "def get_content_recommendations(movie_title, movies, movie_similarity, num_recommendations=5):\n",
    "    idx = movies[movies['title'] == movie_title].index[0]\n",
    "    sim_scores = list(enumerate(movie_similarity[idx]))\n",
    "    sim_scores = sorted(sim_scores, key=lambda x: x[1], reverse=True)\n",
    "    similar_movies_indices = [i[0] for i in sim_scores[1:num_recommendations + 1]]\n",
    "    return movies['title'].iloc[similar_movies_indices]\n"
   ]
  },
  {
   "cell_type": "markdown",
   "id": "45e2eddd",
   "metadata": {},
   "source": [
    "## Model Evaluation"
   ]
  },
  {
   "cell_type": "code",
   "execution_count": null,
   "id": "f2820704",
   "metadata": {},
   "outputs": [],
   "source": [
    "\n",
    "# 1. Split ratings data for evaluation\n",
    "train_data, test_data = train_test_split(ratings, test_size=0.2, random_state=42)\n",
    "\n",
    "# 2. Define prediction function for collaborative filtering evaluation\n",
    "def predict_rating(user_id, movie_id, user_item_matrix, user_similarity):\n",
    "    user_idx = user_id - 1\n",
    "    movie_idx = movie_id - 1\n",
    "    sim_scores = user_similarity[user_idx]\n",
    "    movie_ratings = user_item_matrix.iloc[:, movie_idx]\n",
    "    rated_users = movie_ratings.dropna().index\n",
    "    numerator = sum(sim_scores[ru] * movie_ratings[ru] for ru in rated_users)\n",
    "    denominator = sum(abs(sim_scores[ru]) for ru in rated_users)\n",
    "    return numerator / denominator if denominator != 0 else np.nan\n",
    "\n",
    "# 3. Calculate RMSE for collaborative filtering\n",
    "actual_ratings = []\n",
    "predicted_ratings = []\n",
    "\n",
    "for _, row in test_data.iterrows():\n",
    "    user_id = int(row['userId'])\n",
    "    movie_id = int(row['movieId'])\n",
    "    actual_rating = row['rating']\n",
    "    predicted_rating = predict_rating(user_id, movie_id, user_item_matrix, user_similarity)\n",
    "    if not np.isnan(predicted_rating):\n",
    "        actual_ratings.append(actual_rating)\n",
    "        predicted_ratings.append(predicted_rating)\n",
    "\n",
    "rmse = np.sqrt(mean_squared_error(actual_ratings, predicted_ratings))\n",
    "print(\"Root Mean Square Error (RMSE) for Collaborative Filtering:\", rmse)\n"
   ]
  },
  {
   "cell_type": "markdown",
   "id": "99be8b8a",
   "metadata": {},
   "source": [
    "## Hybrid Recommendation System"
   ]
  },
  {
   "cell_type": "code",
   "execution_count": null,
   "id": "cc659cd1",
   "metadata": {},
   "outputs": [],
   "source": [
    "\n",
    "# 1. Define function for hybrid recommendations\n",
    "def get_hybrid_recommendations(user_id, movie_title, user_item_matrix, user_similarity, movie_similarity, movies, num_recommendations=5):\n",
    "    cf_recommendations = get_user_recommendations(user_id, user_item_matrix, user_similarity, num_recommendations)\n",
    "    cb_recommendations = get_content_recommendations(movie_title, movies, movie_similarity, num_recommendations)\n",
    "    hybrid_recommendations = pd.concat([cf_recommendations, cb_recommendations]).drop_duplicates().head(num_recommendations)\n",
    "    return hybrid_recommendations\n",
    "\n",
    "# 2. Test hybrid recommendation system\n",
    "user_id = 1\n",
    "movie_title = \"Toy Story (1995)\"\n",
    "hybrid_recs = get_hybrid_recommendations(user_id, movie_title, user_item_matrix, user_similarity, movie_similarity, movies)\n",
    "print(\"\n",
    "Hybrid Recommendations:\")\n",
    "print(hybrid_recs)\n"
   ]
  }
 ],
 "metadata": {},
 "nbformat": 4,
 "nbformat_minor": 5
}
